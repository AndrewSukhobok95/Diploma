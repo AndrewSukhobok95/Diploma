{
 "cells": [
  {
   "cell_type": "code",
   "execution_count": 2,
   "metadata": {
    "collapsed": false
   },
   "outputs": [
    {
     "name": "stderr",
     "output_type": "stream",
     "text": [
      "Using TensorFlow backend.\n"
     ]
    }
   ],
   "source": [
    "import pandas as pd\n",
    "import numpy as np\n",
    "\n",
    "import matplotlib.pyplot as plt\n",
    "plt.style.use('ggplot')\n",
    "\n",
    "% matplotlib inline\n",
    "\n",
    "from keras.models import Sequential\n",
    "from keras.layers import Dense, Dropout\n",
    "from keras.optimizers import Adam, SGD"
   ]
  },
  {
   "cell_type": "code",
   "execution_count": 2,
   "metadata": {
    "collapsed": true
   },
   "outputs": [],
   "source": [
    "from statsmodels.tsa.stattools import adfuller\n",
    "from statsmodels.tsa.stattools import kpss\n",
    "\n",
    "def test_stationarity(timeseries):\n",
    "    #Perform Dickey-Fuller test:\n",
    "    print('Results of Dickey-Fuller Test:')\n",
    "    dftest = adfuller(timeseries, autolag='AIC')\n",
    "    dfoutput = pd.Series(dftest[0:4], index=['Test Statistic','p-value','#Lags Used','Number of Observations Used'])\n",
    "    for key,value in dftest[4].items():\n",
    "        dfoutput['Critical Value (%s)'%key] = value\n",
    "    print(dfoutput)\n",
    "    #Graph\n",
    "    plt.plot(list(timeseries))\n",
    "    plt.show()"
   ]
  },
  {
   "cell_type": "code",
   "execution_count": 3,
   "metadata": {
    "collapsed": true
   },
   "outputs": [],
   "source": [
    "def diff_series(timeseries):\n",
    "    diff_s = timeseries - timeseries.shift()\n",
    "    return(diff_s[1:])"
   ]
  },
  {
   "cell_type": "code",
   "execution_count": 99,
   "metadata": {
    "collapsed": true
   },
   "outputs": [],
   "source": [
    "df_us = pd.read_excel('Data.xlsx', sheetname='US_USData')"
   ]
  },
  {
   "cell_type": "code",
   "execution_count": 100,
   "metadata": {
    "collapsed": false
   },
   "outputs": [],
   "source": [
    "df_us = df_us[['Year', 'Qrt', 'y', 'p', 'r', 'u', 'c', 'Oil.price']].copy()"
   ]
  },
  {
   "cell_type": "code",
   "execution_count": 101,
   "metadata": {
    "collapsed": false,
    "scrolled": true
   },
   "outputs": [],
   "source": [
    "df_us = df_us.iloc[84:268, :].copy()"
   ]
  },
  {
   "cell_type": "code",
   "execution_count": 102,
   "metadata": {
    "collapsed": false,
    "scrolled": true
   },
   "outputs": [],
   "source": [
    "df_us = df_us.reset_index()"
   ]
  },
  {
   "cell_type": "code",
   "execution_count": 103,
   "metadata": {
    "collapsed": false
   },
   "outputs": [
    {
     "data": {
      "text/html": [
       "<div>\n",
       "<table border=\"1\" class=\"dataframe\">\n",
       "  <thead>\n",
       "    <tr style=\"text-align: right;\">\n",
       "      <th></th>\n",
       "      <th>index</th>\n",
       "      <th>Year</th>\n",
       "      <th>Qrt</th>\n",
       "      <th>y</th>\n",
       "      <th>p</th>\n",
       "      <th>r</th>\n",
       "      <th>u</th>\n",
       "      <th>c</th>\n",
       "      <th>Oil.price</th>\n",
       "    </tr>\n",
       "  </thead>\n",
       "  <tbody>\n",
       "    <tr>\n",
       "      <th>0</th>\n",
       "      <td>85</td>\n",
       "      <td>1967</td>\n",
       "      <td>1</td>\n",
       "      <td>8.272673</td>\n",
       "      <td>-1.566091</td>\n",
       "      <td>0.048174</td>\n",
       "      <td>0.038229</td>\n",
       "      <td>0.881495</td>\n",
       "      <td>1.095273</td>\n",
       "    </tr>\n",
       "    <tr>\n",
       "      <th>1</th>\n",
       "      <td>86</td>\n",
       "      <td>1967</td>\n",
       "      <td>2</td>\n",
       "      <td>8.272877</td>\n",
       "      <td>-1.560791</td>\n",
       "      <td>0.039895</td>\n",
       "      <td>0.038194</td>\n",
       "      <td>0.866086</td>\n",
       "      <td>1.098612</td>\n",
       "    </tr>\n",
       "    <tr>\n",
       "      <th>2</th>\n",
       "      <td>87</td>\n",
       "      <td>1967</td>\n",
       "      <td>3</td>\n",
       "      <td>8.280838</td>\n",
       "      <td>-1.551028</td>\n",
       "      <td>0.038923</td>\n",
       "      <td>0.037971</td>\n",
       "      <td>0.860431</td>\n",
       "      <td>1.114158</td>\n",
       "    </tr>\n",
       "    <tr>\n",
       "      <th>3</th>\n",
       "      <td>88</td>\n",
       "      <td>1967</td>\n",
       "      <td>4</td>\n",
       "      <td>8.288434</td>\n",
       "      <td>-1.540005</td>\n",
       "      <td>0.041738</td>\n",
       "      <td>0.039285</td>\n",
       "      <td>0.871866</td>\n",
       "      <td>1.121678</td>\n",
       "    </tr>\n",
       "    <tr>\n",
       "      <th>4</th>\n",
       "      <td>89</td>\n",
       "      <td>1968</td>\n",
       "      <td>1</td>\n",
       "      <td>8.308815</td>\n",
       "      <td>-1.529149</td>\n",
       "      <td>0.047884</td>\n",
       "      <td>0.037388</td>\n",
       "      <td>0.873369</td>\n",
       "      <td>1.121678</td>\n",
       "    </tr>\n",
       "  </tbody>\n",
       "</table>\n",
       "</div>"
      ],
      "text/plain": [
       "   index  Year  Qrt         y         p         r         u         c  \\\n",
       "0     85  1967    1  8.272673 -1.566091  0.048174  0.038229  0.881495   \n",
       "1     86  1967    2  8.272877 -1.560791  0.039895  0.038194  0.866086   \n",
       "2     87  1967    3  8.280838 -1.551028  0.038923  0.037971  0.860431   \n",
       "3     88  1967    4  8.288434 -1.540005  0.041738  0.039285  0.871866   \n",
       "4     89  1968    1  8.308815 -1.529149  0.047884  0.037388  0.873369   \n",
       "\n",
       "   Oil.price  \n",
       "0   1.095273  \n",
       "1   1.098612  \n",
       "2   1.114158  \n",
       "3   1.121678  \n",
       "4   1.121678  "
      ]
     },
     "execution_count": 103,
     "metadata": {},
     "output_type": "execute_result"
    }
   ],
   "source": [
    "df_us.head()"
   ]
  },
  {
   "cell_type": "code",
   "execution_count": 105,
   "metadata": {
    "collapsed": false
   },
   "outputs": [
    {
     "name": "stdout",
     "output_type": "stream",
     "text": [
      "Results of Dickey-Fuller Test:\n",
      "Test Statistic                -6.607217e+00\n",
      "p-value                        6.511005e-09\n",
      "#Lags Used                     1.000000e+00\n",
      "Number of Observations Used    1.810000e+02\n",
      "Critical Value (1%)           -3.467005e+00\n",
      "Critical Value (5%)           -2.877644e+00\n",
      "Critical Value (10%)          -2.575355e+00\n",
      "dtype: float64\n"
     ]
    },
    {
     "data": {
      "image/png": "[encoded data removed]",
      "text/plain": [
       "<matplotlib.figure.Figure at 0x7f64b17b3908>"
      ]
     },
     "metadata": {},
     "output_type": "display_data"
    }
   ],
   "source": [
    "test_stationarity(diff_series(df_us['y']))"
   ]
  },
  {
   "cell_type": "code",
   "execution_count": 106,
   "metadata": {
    "collapsed": false
   },
   "outputs": [
    {
     "name": "stdout",
     "output_type": "stream",
     "text": [
      "Results of Dickey-Fuller Test:\n",
      "Test Statistic                  -2.002922\n",
      "p-value                          0.285293\n",
      "#Lags Used                       4.000000\n",
      "Number of Observations Used    178.000000\n",
      "Critical Value (1%)             -3.467632\n",
      "Critical Value (5%)             -2.877918\n",
      "Critical Value (10%)            -2.575501\n",
      "dtype: float64\n"
     ]
    },
    {
     "data": {
      "image/png": "[encoded data removed]",
      "text/plain": [
       "<matplotlib.figure.Figure at 0x7f64b1bd98d0>"
      ]
     },
     "metadata": {},
     "output_type": "display_data"
    }
   ],
   "source": [
    "test_stationarity(diff_series(df_us['p']))"
   ]
  },
  {
   "cell_type": "code",
   "execution_count": 107,
   "metadata": {
    "collapsed": false
   },
   "outputs": [
    {
     "name": "stdout",
     "output_type": "stream",
     "text": [
      "Results of Dickey-Fuller Test:\n",
      "Test Statistic                -5.927019e+00\n",
      "p-value                        2.430149e-07\n",
      "#Lags Used                     6.000000e+00\n",
      "Number of Observations Used    1.760000e+02\n",
      "Critical Value (1%)           -3.468062e+00\n",
      "Critical Value (5%)           -2.878106e+00\n",
      "Critical Value (10%)          -2.575602e+00\n",
      "dtype: float64\n"
     ]
    },
    {
     "data": {
      "image/png": "[encoded data removed]",
      "text/plain": [
       "<matplotlib.figure.Figure at 0x7f64b1b4fef0>"
      ]
     },
     "metadata": {},
     "output_type": "display_data"
    }
   ],
   "source": [
    "test_stationarity(diff_series(df_us['r']))"
   ]
  },
  {
   "cell_type": "code",
   "execution_count": 108,
   "metadata": {
    "collapsed": false
   },
   "outputs": [
    {
     "name": "stdout",
     "output_type": "stream",
     "text": [
      "Results of Dickey-Fuller Test:\n",
      "Test Statistic                  -5.112497\n",
      "p-value                          0.000013\n",
      "#Lags Used                      11.000000\n",
      "Number of Observations Used    171.000000\n",
      "Critical Value (1%)             -3.469181\n",
      "Critical Value (5%)             -2.878595\n",
      "Critical Value (10%)            -2.575863\n",
      "dtype: float64\n"
     ]
    },
    {
     "data": {
      "image/png": "[encoded data removed]",
      "text/plain": [
       "<matplotlib.figure.Figure at 0x7f64b19a0d30>"
      ]
     },
     "metadata": {},
     "output_type": "display_data"
    }
   ],
   "source": [
    "test_stationarity(diff_series(df_us['u']))"
   ]
  },
  {
   "cell_type": "code",
   "execution_count": 109,
   "metadata": {
    "collapsed": false
   },
   "outputs": [
    {
     "name": "stdout",
     "output_type": "stream",
     "text": [
      "Results of Dickey-Fuller Test:\n",
      "Test Statistic                -6.045358e+00\n",
      "p-value                        1.315849e-07\n",
      "#Lags Used                     1.100000e+01\n",
      "Number of Observations Used    1.710000e+02\n",
      "Critical Value (1%)           -3.469181e+00\n",
      "Critical Value (5%)           -2.878595e+00\n",
      "Critical Value (10%)          -2.575863e+00\n",
      "dtype: float64\n"
     ]
    },
    {
     "data": {
      "image/png": "[encoded data removed]",
      "text/plain": [
       "<matplotlib.figure.Figure at 0x7f64b1bd2eb8>"
      ]
     },
     "metadata": {},
     "output_type": "display_data"
    }
   ],
   "source": [
    "test_stationarity(diff_series(df_us['c']))"
   ]
  },
  {
   "cell_type": "code",
   "execution_count": 110,
   "metadata": {
    "collapsed": false
   },
   "outputs": [
    {
     "name": "stdout",
     "output_type": "stream",
     "text": [
      "Results of Dickey-Fuller Test:\n",
      "Test Statistic                -9.969637e+00\n",
      "p-value                        2.258298e-17\n",
      "#Lags Used                     1.000000e+00\n",
      "Number of Observations Used    1.810000e+02\n",
      "Critical Value (1%)           -3.467005e+00\n",
      "Critical Value (5%)           -2.877644e+00\n",
      "Critical Value (10%)          -2.575355e+00\n",
      "dtype: float64\n"
     ]
    },
    {
     "data": {
      "image/png": "[encoded data removed]",
      "text/plain": [
       "<matplotlib.figure.Figure at 0x7f64b19a75f8>"
      ]
     },
     "metadata": {},
     "output_type": "display_data"
    }
   ],
   "source": [
    "test_stationarity(diff_series(df_us['Oil.price']))"
   ]
  },
  {
   "cell_type": "code",
   "execution_count": 112,
   "metadata": {
    "collapsed": false
   },
   "outputs": [],
   "source": [
    "diff_df = np.array(pd.DataFrame([diff_series(df_us['y']),\n",
    "diff_series(df_us['p']),\n",
    "diff_series(df_us['r']),\n",
    "diff_series(df_us['u']),\n",
    "diff_series(df_us['c']),\n",
    "diff_series(df_us['Oil.price'])]).T)"
   ]
  },
  {
   "cell_type": "markdown",
   "metadata": {},
   "source": [
    "---"
   ]
  },
  {
   "cell_type": "code",
   "execution_count": 113,
   "metadata": {
    "collapsed": false
   },
   "outputs": [],
   "source": [
    "from statsmodels.tsa.vector_ar.var_model import VAR"
   ]
  },
  {
   "cell_type": "code",
   "execution_count": 134,
   "metadata": {
    "collapsed": false
   },
   "outputs": [
    {
     "data": {
      "text/plain": [
       "(178, 183)"
      ]
     },
     "execution_count": 134,
     "metadata": {},
     "output_type": "execute_result"
    }
   ],
   "source": [
    "len(diff_df[:178]), len(diff_df[:])"
   ]
  },
  {
   "cell_type": "code",
   "execution_count": 135,
   "metadata": {
    "collapsed": false
   },
   "outputs": [],
   "source": [
    "model = VAR(diff_df[:178])"
   ]
  },
  {
   "cell_type": "code",
   "execution_count": null,
   "metadata": {
    "collapsed": true
   },
   "outputs": [],
   "source": [
    "model"
   ]
  },
  {
   "cell_type": "code",
   "execution_count": 136,
   "metadata": {
    "collapsed": false
   },
   "outputs": [
    {
     "name": "stdout",
     "output_type": "stream",
     "text": [
      "                 VAR Order Selection                  \n",
      "======================================================\n",
      "            aic          bic          fpe         hqic\n",
      "------------------------------------------------------\n",
      "0        -55.02       -54.91    1.273e-24       -54.97\n",
      "1        -57.30      -56.50*    1.307e-25      -56.97*\n",
      "2        -57.44       -55.97    1.130e-25       -56.85\n",
      "3        -57.48       -55.32    1.099e-25       -56.60\n",
      "4        -57.54       -54.70    1.042e-25       -56.39\n",
      "5        -57.59       -54.07   1.005e-25*       -56.16\n",
      "6        -57.39       -53.20    1.243e-25       -55.69\n",
      "7        -57.34       -52.46    1.351e-25       -55.36\n",
      "8        -57.36       -51.81    1.368e-25       -55.11\n",
      "9        -57.38       -51.15    1.408e-25       -54.85\n",
      "10       -57.61       -50.69    1.197e-25       -54.80\n",
      "11       -57.60       -50.00    1.306e-25       -54.52\n",
      "12       -57.64       -49.36    1.387e-25       -54.28\n",
      "13       -57.89       -48.93    1.213e-25       -54.26\n",
      "14      -58.17*       -48.53    1.066e-25       -54.26\n",
      "======================================================\n",
      "* Minimum\n",
      "\n"
     ]
    },
    {
     "data": {
      "text/plain": [
       "{'aic': 14, 'bic': 1, 'fpe': 5, 'hqic': 1}"
      ]
     },
     "execution_count": 136,
     "metadata": {},
     "output_type": "execute_result"
    }
   ],
   "source": [
    "model.select_order()"
   ]
  },
  {
   "cell_type": "code",
   "execution_count": 317,
   "metadata": {
    "collapsed": false
   },
   "outputs": [],
   "source": [
    "fit = model.fit(maxlags=2)"
   ]
  },
  {
   "cell_type": "code",
   "execution_count": 318,
   "metadata": {
    "collapsed": false,
    "scrolled": true
   },
   "outputs": [
    {
     "data": {
      "text/plain": [
       "  Summary of Regression Results   \n",
       "==================================\n",
       "Model:                         VAR\n",
       "Method:                        OLS\n",
       "Date:           Sun, 16, Apr, 2017\n",
       "Time:                     11:51:57\n",
       "--------------------------------------------------------------------\n",
       "No. of Equations:         6.00000    BIC:                   -56.1453\n",
       "Nobs:                     176.000    HQIC:                  -56.9804\n",
       "Log likelihood:           3644.03    FPE:                1.01602e-25\n",
       "AIC:                     -57.5504    Det(Omega_mle):     6.62533e-26\n",
       "--------------------------------------------------------------------\n",
       "Results for equation y1\n",
       "========================================================================\n",
       "           coefficient       std. error           t-stat            prob\n",
       "------------------------------------------------------------------------\n",
       "const         0.004545         0.001479            3.073           0.002\n",
       "L1.y1        -0.007321         0.101546           -0.072           0.943\n",
       "L1.y2        -0.017198         0.206982           -0.083           0.934\n",
       "L1.y3        -0.068617         0.064839           -1.058           0.291\n",
       "L1.y4        -0.759186         0.349450           -2.173           0.031\n",
       "L1.y5         0.181478         0.098516            1.842           0.067\n",
       "L1.y6        -0.002518         0.004066           -0.619           0.537\n",
       "L2.y1         0.280563         0.098071            2.861           0.005\n",
       "L2.y2         0.099386         0.207588            0.479           0.633\n",
       "L2.y3        -0.255907         0.065326           -3.917           0.000\n",
       "L2.y4        -0.129150         0.326517           -0.396           0.693\n",
       "L2.y5        -0.199964         0.096058           -2.082           0.039\n",
       "L2.y6        -0.005555         0.004120           -1.349           0.179\n",
       "========================================================================\n",
       "\n",
       "Results for equation y2\n",
       "========================================================================\n",
       "           coefficient       std. error           t-stat            prob\n",
       "------------------------------------------------------------------------\n",
       "const         0.001130         0.000556            2.034           0.044\n",
       "L1.y1        -0.013742         0.038144           -0.360           0.719\n",
       "L1.y2         0.609194         0.077749            7.835           0.000\n",
       "L1.y3         0.036855         0.024356            1.513           0.132\n",
       "L1.y4        -0.300452         0.131265           -2.289           0.023\n",
       "L1.y5        -0.038639         0.037006           -1.044           0.298\n",
       "L1.y6         0.002084         0.001527            1.365           0.174\n",
       "L2.y1        -0.000528         0.036839           -0.014           0.989\n",
       "L2.y2         0.277152         0.077977            3.554           0.000\n",
       "L2.y3         0.032237         0.024539            1.314           0.191\n",
       "L2.y4         0.211756         0.122651            1.726           0.086\n",
       "L2.y5         0.016100         0.036083            0.446           0.656\n",
       "L2.y6         0.001772         0.001547            1.145           0.254\n",
       "========================================================================\n",
       "\n",
       "Results for equation y3\n",
       "========================================================================\n",
       "           coefficient       std. error           t-stat            prob\n",
       "------------------------------------------------------------------------\n",
       "const        -0.004243         0.001911           -2.220           0.028\n",
       "L1.y1         0.167515         0.131209            1.277           0.204\n",
       "L1.y2         0.098903         0.267443            0.370           0.712\n",
       "L1.y3         0.088985         0.083779            1.062           0.290\n",
       "L1.y4        -1.055071         0.451527           -2.337           0.021\n",
       "L1.y5        -0.078928         0.127293           -0.620           0.536\n",
       "L1.y6         0.006558         0.005254            1.248           0.214\n",
       "L2.y1         0.072763         0.126718            0.574           0.567\n",
       "L2.y2         0.152414         0.268227            0.568           0.571\n",
       "L2.y3        -0.274124         0.084409           -3.248           0.001\n",
       "L2.y4         0.217969         0.421895            0.517           0.606\n",
       "L2.y5         0.039314         0.124118            0.317           0.752\n",
       "L2.y6         0.000293         0.005323            0.055           0.956\n",
       "========================================================================\n",
       "\n",
       "Results for equation y4\n",
       "========================================================================\n",
       "           coefficient       std. error           t-stat            prob\n",
       "------------------------------------------------------------------------\n",
       "const         0.000969         0.000491            1.974           0.050\n",
       "L1.y1        -0.048640         0.033690           -1.444           0.151\n",
       "L1.y2         0.054943         0.068671            0.800           0.425\n",
       "L1.y3         0.032545         0.021512            1.513           0.132\n",
       "L1.y4         0.408308         0.115938            3.522           0.001\n",
       "L1.y5        -0.059658         0.032685           -1.825           0.070\n",
       "L1.y6        -0.001626         0.001349           -1.206           0.230\n",
       "L2.y1        -0.110887         0.032537           -3.408           0.001\n",
       "L2.y2        -0.020545         0.068872           -0.298           0.766\n",
       "L2.y3         0.049004         0.021674            2.261           0.025\n",
       "L2.y4         0.005824         0.108330            0.054           0.957\n",
       "L2.y5         0.033479         0.031870            1.051           0.295\n",
       "L2.y6         0.000899         0.001367            0.658           0.512\n",
       "========================================================================\n",
       "\n",
       "Results for equation y5\n",
       "========================================================================\n",
       "           coefficient       std. error           t-stat            prob\n",
       "------------------------------------------------------------------------\n",
       "const        -0.000032         0.002009           -0.016           0.987\n",
       "L1.y1        -0.030779         0.137918           -0.223           0.824\n",
       "L1.y2        -0.322257         0.281117           -1.146           0.253\n",
       "L1.y3        -0.143545         0.088062           -1.630           0.105\n",
       "L1.y4        -0.676219         0.474614           -1.425           0.156\n",
       "L1.y5         0.548669         0.133802            4.101           0.000\n",
       "L1.y6         0.004181         0.005522            0.757           0.450\n",
       "L2.y1         0.264543         0.133197            1.986           0.049\n",
       "L2.y2         0.122747         0.281942            0.435           0.664\n",
       "L2.y3        -0.195464         0.088725           -2.203           0.029\n",
       "L2.y4         0.454628         0.443467            1.025           0.307\n",
       "L2.y5        -0.118606         0.130464           -0.909           0.365\n",
       "L2.y6        -0.001805         0.005595           -0.323           0.747\n",
       "========================================================================\n",
       "\n",
       "Results for equation y6\n",
       "========================================================================\n",
       "           coefficient       std. error           t-stat            prob\n",
       "------------------------------------------------------------------------\n",
       "const         0.016120         0.028022            0.575           0.566\n",
       "L1.y1        -0.424885         1.923812           -0.221           0.825\n",
       "L1.y2        -0.406176         3.921306           -0.104           0.918\n",
       "L1.y3         0.476764         1.228383            0.388           0.698\n",
       "L1.y4        -0.506343         6.620388           -0.076           0.939\n",
       "L1.y5         2.447202         1.866400            1.311           0.192\n",
       "L1.y6         0.196269         0.077029            2.548           0.012\n",
       "L2.y1        -2.493716         1.857969           -1.342           0.181\n",
       "L2.y2         3.006156         3.932802            0.764           0.446\n",
       "L2.y3         2.124361         1.237622            1.716           0.088\n",
       "L2.y4         1.998347         6.185920            0.323           0.747\n",
       "L2.y5        -0.129474         1.819844           -0.071           0.943\n",
       "L2.y6        -0.202591         0.078046           -2.596           0.010\n",
       "========================================================================\n",
       "\n",
       "Correlation matrix of residuals\n",
       "            y1        y2        y3        y4        y5        y6\n",
       "y1    1.000000 -0.047328  0.166181 -0.570447  0.645658  0.047992\n",
       "y2   -0.047328  1.000000  0.101936 -0.052096  0.182242  0.140736\n",
       "y3    0.166181  0.101936  1.000000 -0.356674  0.377832  0.116927\n",
       "y4   -0.570447 -0.052096 -0.356674  1.000000 -0.744525 -0.039761\n",
       "y5    0.645658  0.182242  0.377832 -0.744525  1.000000  0.088431\n",
       "y6    0.047992  0.140736  0.116927 -0.039761  0.088431  1.000000\n",
       "\n"
      ]
     },
     "execution_count": 318,
     "metadata": {},
     "output_type": "execute_result"
    }
   ],
   "source": [
    "fit.summary()"
   ]
  },
  {
   "cell_type": "code",
   "execution_count": 319,
   "metadata": {
    "collapsed": false,
    "scrolled": true
   },
   "outputs": [],
   "source": [
    "forc = fit.forecast(y=diff_df[:178], steps=5)"
   ]
  },
  {
   "cell_type": "code",
   "execution_count": 320,
   "metadata": {
    "collapsed": false
   },
   "outputs": [
    {
     "data": {
      "text/html": [
       "<div>\n",
       "<table border=\"1\" class=\"dataframe\">\n",
       "  <thead>\n",
       "    <tr style=\"text-align: right;\">\n",
       "      <th></th>\n",
       "      <th>0</th>\n",
       "      <th>1</th>\n",
       "      <th>2</th>\n",
       "      <th>3</th>\n",
       "      <th>4</th>\n",
       "      <th>5</th>\n",
       "    </tr>\n",
       "  </thead>\n",
       "  <tbody>\n",
       "    <tr>\n",
       "      <th>0</th>\n",
       "      <td>0.008458</td>\n",
       "      <td>0.007148</td>\n",
       "      <td>-0.002318</td>\n",
       "      <td>0.000008</td>\n",
       "      <td>0.004357</td>\n",
       "      <td>-0.007528</td>\n",
       "    </tr>\n",
       "    <tr>\n",
       "      <th>1</th>\n",
       "      <td>0.006071</td>\n",
       "      <td>0.006950</td>\n",
       "      <td>-0.001142</td>\n",
       "      <td>0.000284</td>\n",
       "      <td>0.000884</td>\n",
       "      <td>0.056937</td>\n",
       "    </tr>\n",
       "    <tr>\n",
       "      <th>2</th>\n",
       "      <td>0.007107</td>\n",
       "      <td>0.007198</td>\n",
       "      <td>-0.000125</td>\n",
       "      <td>-0.000070</td>\n",
       "      <td>0.001304</td>\n",
       "      <td>0.019818</td>\n",
       "    </tr>\n",
       "    <tr>\n",
       "      <th>3</th>\n",
       "      <td>0.006775</td>\n",
       "      <td>0.007486</td>\n",
       "      <td>-0.000323</td>\n",
       "      <td>0.000086</td>\n",
       "      <td>0.000897</td>\n",
       "      <td>0.009478</td>\n",
       "    </tr>\n",
       "    <tr>\n",
       "      <th>4</th>\n",
       "      <td>0.006842</td>\n",
       "      <td>0.007573</td>\n",
       "      <td>-0.000806</td>\n",
       "      <td>0.000125</td>\n",
       "      <td>0.000432</td>\n",
       "      <td>0.013382</td>\n",
       "    </tr>\n",
       "  </tbody>\n",
       "</table>\n",
       "</div>"
      ],
      "text/plain": [
       "          0         1         2         3         4         5\n",
       "0  0.008458  0.007148 -0.002318  0.000008  0.004357 -0.007528\n",
       "1  0.006071  0.006950 -0.001142  0.000284  0.000884  0.056937\n",
       "2  0.007107  0.007198 -0.000125 -0.000070  0.001304  0.019818\n",
       "3  0.006775  0.007486 -0.000323  0.000086  0.000897  0.009478\n",
       "4  0.006842  0.007573 -0.000806  0.000125  0.000432  0.013382"
      ]
     },
     "execution_count": 320,
     "metadata": {},
     "output_type": "execute_result"
    }
   ],
   "source": [
    "pd.DataFrame(forc)"
   ]
  },
  {
   "cell_type": "code",
   "execution_count": 321,
   "metadata": {
    "collapsed": false
   },
   "outputs": [
    {
     "data": {
      "text/plain": [
       "array([[ -1.66340995e-03,   2.81962056e-03,   1.58290266e-03,\n",
       "          1.05657903e-03,   1.34777707e-02,   1.08027516e-02],\n",
       "       [  1.06896909e-02,   1.27296630e-03,   7.94773377e-03,\n",
       "         -1.72882474e-03,  -3.72737573e-03,  -4.31237873e-02],\n",
       "       [  1.13447579e-02,  -1.39951081e-03,   7.05659080e-03,\n",
       "         -1.26922481e-03,   2.24472777e-03,  -3.04138818e-02],\n",
       "       ..., \n",
       "       [ -4.10970910e-03,   2.42572330e-05,   1.29764506e-03,\n",
       "         -5.46972615e-03,   6.81610627e-03,   5.62954163e-02],\n",
       "       [ -3.80766951e-03,  -9.41472729e-04,  -3.91129690e-03,\n",
       "          2.29474183e-03,  -7.27050275e-03,   5.36203709e-02],\n",
       "       [ -1.19340144e-04,   1.71750953e-03,   2.26752945e-03,\n",
       "         -1.58141460e-03,   1.28580855e-02,  -1.46224624e-01]])"
      ]
     },
     "execution_count": 321,
     "metadata": {},
     "output_type": "execute_result"
    }
   ],
   "source": [
    "fit.resid[:, 0:]"
   ]
  },
  {
   "cell_type": "code",
   "execution_count": 338,
   "metadata": {
    "collapsed": false
   },
   "outputs": [],
   "source": [
    "def plot_compar(real, forcast):\n",
    "    plt.plot(real, color='red')\n",
    "    plt.plot(forcast, color='blue')\n",
    "    plt.show()"
   ]
  },
  {
   "cell_type": "code",
   "execution_count": 344,
   "metadata": {
    "collapsed": false
   },
   "outputs": [
    {
     "data": {
      "image/png": "[encoded data removed]",
      "text/plain": [
       "<matplotlib.figure.Figure at 0x7f649f9c02b0>"
      ]
     },
     "metadata": {},
     "output_type": "display_data"
    }
   ],
   "source": [
    "l = 5\n",
    "plot_compar(diff_df[178:][:,l], forc[:,l])"
   ]
  },
  {
   "cell_type": "code",
   "execution_count": 346,
   "metadata": {
    "collapsed": false,
    "scrolled": true
   },
   "outputs": [
    {
     "data": {
      "text/html": [
       "<div>\n",
       "<table border=\"1\" class=\"dataframe\">\n",
       "  <thead>\n",
       "    <tr style=\"text-align: right;\">\n",
       "      <th></th>\n",
       "      <th>0</th>\n",
       "      <th>1</th>\n",
       "      <th>2</th>\n",
       "      <th>3</th>\n",
       "      <th>4</th>\n",
       "      <th>5</th>\n",
       "    </tr>\n",
       "  </thead>\n",
       "  <tbody>\n",
       "    <tr>\n",
       "      <th>0</th>\n",
       "      <td>-0.001663</td>\n",
       "      <td>0.002820</td>\n",
       "      <td>0.001583</td>\n",
       "      <td>0.001057</td>\n",
       "      <td>0.013478</td>\n",
       "      <td>0.010803</td>\n",
       "    </tr>\n",
       "    <tr>\n",
       "      <th>1</th>\n",
       "      <td>0.010690</td>\n",
       "      <td>0.001273</td>\n",
       "      <td>0.007948</td>\n",
       "      <td>-0.001729</td>\n",
       "      <td>-0.003727</td>\n",
       "      <td>-0.043124</td>\n",
       "    </tr>\n",
       "    <tr>\n",
       "      <th>2</th>\n",
       "      <td>0.011345</td>\n",
       "      <td>-0.001400</td>\n",
       "      <td>0.007057</td>\n",
       "      <td>-0.001269</td>\n",
       "      <td>0.002245</td>\n",
       "      <td>-0.030414</td>\n",
       "    </tr>\n",
       "    <tr>\n",
       "      <th>3</th>\n",
       "      <td>-0.003469</td>\n",
       "      <td>-0.001206</td>\n",
       "      <td>-0.004025</td>\n",
       "      <td>0.001636</td>\n",
       "      <td>-0.004340</td>\n",
       "      <td>-0.005560</td>\n",
       "    </tr>\n",
       "    <tr>\n",
       "      <th>4</th>\n",
       "      <td>-0.002279</td>\n",
       "      <td>0.003869</td>\n",
       "      <td>0.002169</td>\n",
       "      <td>-0.001004</td>\n",
       "      <td>0.005744</td>\n",
       "      <td>-0.011412</td>\n",
       "    </tr>\n",
       "    <tr>\n",
       "      <th>5</th>\n",
       "      <td>0.006180</td>\n",
       "      <td>-0.002027</td>\n",
       "      <td>0.005713</td>\n",
       "      <td>0.000105</td>\n",
       "      <td>0.005902</td>\n",
       "      <td>-0.008897</td>\n",
       "    </tr>\n",
       "    <tr>\n",
       "      <th>6</th>\n",
       "      <td>-0.004480</td>\n",
       "      <td>0.001865</td>\n",
       "      <td>0.015584</td>\n",
       "      <td>0.000672</td>\n",
       "      <td>-0.006904</td>\n",
       "      <td>0.010426</td>\n",
       "    </tr>\n",
       "    <tr>\n",
       "      <th>7</th>\n",
       "      <td>0.002504</td>\n",
       "      <td>0.001233</td>\n",
       "      <td>0.005832</td>\n",
       "      <td>0.000509</td>\n",
       "      <td>0.007828</td>\n",
       "      <td>-0.018336</td>\n",
       "    </tr>\n",
       "    <tr>\n",
       "      <th>8</th>\n",
       "      <td>-0.005720</td>\n",
       "      <td>-0.000784</td>\n",
       "      <td>0.005409</td>\n",
       "      <td>-0.002481</td>\n",
       "      <td>-0.008020</td>\n",
       "      <td>-0.069406</td>\n",
       "    </tr>\n",
       "    <tr>\n",
       "      <th>9</th>\n",
       "      <td>-0.004430</td>\n",
       "      <td>-0.000032</td>\n",
       "      <td>-0.002477</td>\n",
       "      <td>0.003642</td>\n",
       "      <td>-0.020030</td>\n",
       "      <td>-0.020921</td>\n",
       "    </tr>\n",
       "    <tr>\n",
       "      <th>10</th>\n",
       "      <td>0.003938</td>\n",
       "      <td>0.001506</td>\n",
       "      <td>-0.000710</td>\n",
       "      <td>0.000343</td>\n",
       "      <td>0.009481</td>\n",
       "      <td>0.013892</td>\n",
       "    </tr>\n",
       "    <tr>\n",
       "      <th>11</th>\n",
       "      <td>0.003758</td>\n",
       "      <td>-0.004640</td>\n",
       "      <td>-0.006499</td>\n",
       "      <td>0.000899</td>\n",
       "      <td>-0.004341</td>\n",
       "      <td>-0.038840</td>\n",
       "    </tr>\n",
       "    <tr>\n",
       "      <th>12</th>\n",
       "      <td>-0.016074</td>\n",
       "      <td>0.003646</td>\n",
       "      <td>-0.009596</td>\n",
       "      <td>0.004598</td>\n",
       "      <td>-0.022632</td>\n",
       "      <td>0.015540</td>\n",
       "    </tr>\n",
       "    <tr>\n",
       "      <th>13</th>\n",
       "      <td>0.023516</td>\n",
       "      <td>0.004770</td>\n",
       "      <td>-0.012243</td>\n",
       "      <td>-0.002653</td>\n",
       "      <td>0.019666</td>\n",
       "      <td>0.108268</td>\n",
       "    </tr>\n",
       "    <tr>\n",
       "      <th>14</th>\n",
       "      <td>-0.005347</td>\n",
       "      <td>0.000149</td>\n",
       "      <td>0.003589</td>\n",
       "      <td>0.000527</td>\n",
       "      <td>-0.006476</td>\n",
       "      <td>-0.071522</td>\n",
       "    </tr>\n",
       "    <tr>\n",
       "      <th>15</th>\n",
       "      <td>-0.007489</td>\n",
       "      <td>-0.003268</td>\n",
       "      <td>0.000929</td>\n",
       "      <td>0.003047</td>\n",
       "      <td>-0.010614</td>\n",
       "      <td>0.053009</td>\n",
       "    </tr>\n",
       "    <tr>\n",
       "      <th>16</th>\n",
       "      <td>-0.000572</td>\n",
       "      <td>-0.003172</td>\n",
       "      <td>-0.006105</td>\n",
       "      <td>-0.001739</td>\n",
       "      <td>0.018005</td>\n",
       "      <td>-0.043527</td>\n",
       "    </tr>\n",
       "    <tr>\n",
       "      <th>17</th>\n",
       "      <td>0.008855</td>\n",
       "      <td>0.006862</td>\n",
       "      <td>-0.007387</td>\n",
       "      <td>-0.001116</td>\n",
       "      <td>0.020357</td>\n",
       "      <td>-0.069965</td>\n",
       "    </tr>\n",
       "    <tr>\n",
       "      <th>18</th>\n",
       "      <td>0.011083</td>\n",
       "      <td>-0.005435</td>\n",
       "      <td>0.004966</td>\n",
       "      <td>0.001105</td>\n",
       "      <td>-0.004477</td>\n",
       "      <td>-0.065518</td>\n",
       "    </tr>\n",
       "    <tr>\n",
       "      <th>19</th>\n",
       "      <td>-0.001024</td>\n",
       "      <td>0.001029</td>\n",
       "      <td>-0.004609</td>\n",
       "      <td>0.001842</td>\n",
       "      <td>-0.003221</td>\n",
       "      <td>-0.001205</td>\n",
       "    </tr>\n",
       "    <tr>\n",
       "      <th>20</th>\n",
       "      <td>0.007626</td>\n",
       "      <td>0.004201</td>\n",
       "      <td>0.004216</td>\n",
       "      <td>-0.001403</td>\n",
       "      <td>0.019687</td>\n",
       "      <td>0.007778</td>\n",
       "    </tr>\n",
       "    <tr>\n",
       "      <th>21</th>\n",
       "      <td>0.013388</td>\n",
       "      <td>0.000024</td>\n",
       "      <td>0.011602</td>\n",
       "      <td>-0.001222</td>\n",
       "      <td>0.005715</td>\n",
       "      <td>-0.073746</td>\n",
       "    </tr>\n",
       "    <tr>\n",
       "      <th>22</th>\n",
       "      <td>0.001824</td>\n",
       "      <td>0.002990</td>\n",
       "      <td>0.005631</td>\n",
       "      <td>0.002165</td>\n",
       "      <td>-0.008009</td>\n",
       "      <td>-0.048029</td>\n",
       "    </tr>\n",
       "    <tr>\n",
       "      <th>23</th>\n",
       "      <td>-0.010636</td>\n",
       "      <td>0.005018</td>\n",
       "      <td>0.026599</td>\n",
       "      <td>-0.000678</td>\n",
       "      <td>0.004701</td>\n",
       "      <td>0.132120</td>\n",
       "    </tr>\n",
       "    <tr>\n",
       "      <th>24</th>\n",
       "      <td>0.005005</td>\n",
       "      <td>0.000521</td>\n",
       "      <td>-0.006268</td>\n",
       "      <td>-0.001862</td>\n",
       "      <td>0.011665</td>\n",
       "      <td>-0.030807</td>\n",
       "    </tr>\n",
       "    <tr>\n",
       "      <th>25</th>\n",
       "      <td>-0.007245</td>\n",
       "      <td>0.000029</td>\n",
       "      <td>-0.000504</td>\n",
       "      <td>0.000595</td>\n",
       "      <td>-0.007814</td>\n",
       "      <td>0.727063</td>\n",
       "    </tr>\n",
       "    <tr>\n",
       "      <th>26</th>\n",
       "      <td>0.000365</td>\n",
       "      <td>0.004173</td>\n",
       "      <td>0.014704</td>\n",
       "      <td>-0.000756</td>\n",
       "      <td>0.001049</td>\n",
       "      <td>-0.146562</td>\n",
       "    </tr>\n",
       "    <tr>\n",
       "      <th>27</th>\n",
       "      <td>-0.010201</td>\n",
       "      <td>0.005994</td>\n",
       "      <td>0.004223</td>\n",
       "      <td>0.000247</td>\n",
       "      <td>0.001841</td>\n",
       "      <td>0.099296</td>\n",
       "    </tr>\n",
       "    <tr>\n",
       "      <th>28</th>\n",
       "      <td>-0.001838</td>\n",
       "      <td>0.003819</td>\n",
       "      <td>-0.020035</td>\n",
       "      <td>0.004173</td>\n",
       "      <td>-0.021162</td>\n",
       "      <td>0.003592</td>\n",
       "    </tr>\n",
       "    <tr>\n",
       "      <th>29</th>\n",
       "      <td>-0.002804</td>\n",
       "      <td>-0.003079</td>\n",
       "      <td>-0.021314</td>\n",
       "      <td>0.008018</td>\n",
       "      <td>-0.027261</td>\n",
       "      <td>-0.052780</td>\n",
       "    </tr>\n",
       "    <tr>\n",
       "      <th>...</th>\n",
       "      <td>...</td>\n",
       "      <td>...</td>\n",
       "      <td>...</td>\n",
       "      <td>...</td>\n",
       "      <td>...</td>\n",
       "      <td>...</td>\n",
       "    </tr>\n",
       "    <tr>\n",
       "      <th>146</th>\n",
       "      <td>-0.001637</td>\n",
       "      <td>0.000695</td>\n",
       "      <td>-0.000540</td>\n",
       "      <td>-0.000111</td>\n",
       "      <td>0.001182</td>\n",
       "      <td>0.055479</td>\n",
       "    </tr>\n",
       "    <tr>\n",
       "      <th>147</th>\n",
       "      <td>0.000874</td>\n",
       "      <td>-0.001689</td>\n",
       "      <td>0.003529</td>\n",
       "      <td>-0.001316</td>\n",
       "      <td>0.003047</td>\n",
       "      <td>0.117426</td>\n",
       "    </tr>\n",
       "    <tr>\n",
       "      <th>148</th>\n",
       "      <td>0.000894</td>\n",
       "      <td>-0.001056</td>\n",
       "      <td>0.003242</td>\n",
       "      <td>0.000200</td>\n",
       "      <td>0.008009</td>\n",
       "      <td>0.056532</td>\n",
       "    </tr>\n",
       "    <tr>\n",
       "      <th>149</th>\n",
       "      <td>0.003951</td>\n",
       "      <td>0.001387</td>\n",
       "      <td>0.006225</td>\n",
       "      <td>-0.000759</td>\n",
       "      <td>0.006365</td>\n",
       "      <td>-0.009675</td>\n",
       "    </tr>\n",
       "    <tr>\n",
       "      <th>150</th>\n",
       "      <td>-0.001197</td>\n",
       "      <td>-0.002567</td>\n",
       "      <td>0.004713</td>\n",
       "      <td>-0.001426</td>\n",
       "      <td>-0.001381</td>\n",
       "      <td>0.032639</td>\n",
       "    </tr>\n",
       "    <tr>\n",
       "      <th>151</th>\n",
       "      <td>0.001992</td>\n",
       "      <td>0.001617</td>\n",
       "      <td>0.004521</td>\n",
       "      <td>-0.001081</td>\n",
       "      <td>-0.006252</td>\n",
       "      <td>0.138887</td>\n",
       "    </tr>\n",
       "    <tr>\n",
       "      <th>152</th>\n",
       "      <td>0.001319</td>\n",
       "      <td>-0.001855</td>\n",
       "      <td>0.003830</td>\n",
       "      <td>-0.000625</td>\n",
       "      <td>0.009150</td>\n",
       "      <td>-0.082931</td>\n",
       "    </tr>\n",
       "    <tr>\n",
       "      <th>153</th>\n",
       "      <td>0.005401</td>\n",
       "      <td>-0.001654</td>\n",
       "      <td>0.007076</td>\n",
       "      <td>-0.002641</td>\n",
       "      <td>0.004681</td>\n",
       "      <td>0.057668</td>\n",
       "    </tr>\n",
       "    <tr>\n",
       "      <th>154</th>\n",
       "      <td>-0.003041</td>\n",
       "      <td>0.000014</td>\n",
       "      <td>0.002750</td>\n",
       "      <td>0.000189</td>\n",
       "      <td>-0.000342</td>\n",
       "      <td>0.041078</td>\n",
       "    </tr>\n",
       "    <tr>\n",
       "      <th>155</th>\n",
       "      <td>-0.006520</td>\n",
       "      <td>-0.001268</td>\n",
       "      <td>0.004014</td>\n",
       "      <td>0.000146</td>\n",
       "      <td>-0.000977</td>\n",
       "      <td>-0.024518</td>\n",
       "    </tr>\n",
       "    <tr>\n",
       "      <th>156</th>\n",
       "      <td>0.002726</td>\n",
       "      <td>-0.004100</td>\n",
       "      <td>0.002636</td>\n",
       "      <td>-0.003171</td>\n",
       "      <td>-0.001056</td>\n",
       "      <td>-0.172734</td>\n",
       "    </tr>\n",
       "    <tr>\n",
       "      <th>157</th>\n",
       "      <td>-0.004365</td>\n",
       "      <td>0.005105</td>\n",
       "      <td>0.001325</td>\n",
       "      <td>0.000151</td>\n",
       "      <td>0.005289</td>\n",
       "      <td>-0.034205</td>\n",
       "    </tr>\n",
       "    <tr>\n",
       "      <th>158</th>\n",
       "      <td>0.000362</td>\n",
       "      <td>-0.001368</td>\n",
       "      <td>0.003423</td>\n",
       "      <td>-0.000894</td>\n",
       "      <td>0.004635</td>\n",
       "      <td>0.075859</td>\n",
       "    </tr>\n",
       "    <tr>\n",
       "      <th>159</th>\n",
       "      <td>0.001175</td>\n",
       "      <td>-0.005264</td>\n",
       "      <td>-0.002462</td>\n",
       "      <td>0.001574</td>\n",
       "      <td>-0.003696</td>\n",
       "      <td>0.070439</td>\n",
       "    </tr>\n",
       "    <tr>\n",
       "      <th>160</th>\n",
       "      <td>-0.000290</td>\n",
       "      <td>-0.000225</td>\n",
       "      <td>-0.004150</td>\n",
       "      <td>0.001090</td>\n",
       "      <td>-0.000031</td>\n",
       "      <td>0.175163</td>\n",
       "    </tr>\n",
       "    <tr>\n",
       "      <th>161</th>\n",
       "      <td>-0.009817</td>\n",
       "      <td>0.000753</td>\n",
       "      <td>-0.011132</td>\n",
       "      <td>0.001600</td>\n",
       "      <td>-0.003904</td>\n",
       "      <td>0.068902</td>\n",
       "    </tr>\n",
       "    <tr>\n",
       "      <th>162</th>\n",
       "      <td>-0.002125</td>\n",
       "      <td>0.000867</td>\n",
       "      <td>-0.007027</td>\n",
       "      <td>0.002240</td>\n",
       "      <td>-0.012111</td>\n",
       "      <td>0.259546</td>\n",
       "    </tr>\n",
       "    <tr>\n",
       "      <th>163</th>\n",
       "      <td>-0.011764</td>\n",
       "      <td>0.001613</td>\n",
       "      <td>-0.000795</td>\n",
       "      <td>0.004657</td>\n",
       "      <td>-0.021092</td>\n",
       "      <td>-0.064130</td>\n",
       "    </tr>\n",
       "    <tr>\n",
       "      <th>164</th>\n",
       "      <td>-0.022843</td>\n",
       "      <td>-0.006030</td>\n",
       "      <td>-0.008301</td>\n",
       "      <td>0.003566</td>\n",
       "      <td>-0.018554</td>\n",
       "      <td>-0.592044</td>\n",
       "    </tr>\n",
       "    <tr>\n",
       "      <th>165</th>\n",
       "      <td>-0.011401</td>\n",
       "      <td>0.000163</td>\n",
       "      <td>0.015737</td>\n",
       "      <td>0.005869</td>\n",
       "      <td>-0.020180</td>\n",
       "      <td>-0.171744</td>\n",
       "    </tr>\n",
       "    <tr>\n",
       "      <th>166</th>\n",
       "      <td>0.004862</td>\n",
       "      <td>-0.001071</td>\n",
       "      <td>0.017576</td>\n",
       "      <td>-0.000609</td>\n",
       "      <td>0.006153</td>\n",
       "      <td>0.276566</td>\n",
       "    </tr>\n",
       "    <tr>\n",
       "      <th>167</th>\n",
       "      <td>0.005895</td>\n",
       "      <td>0.000421</td>\n",
       "      <td>0.009293</td>\n",
       "      <td>-0.002094</td>\n",
       "      <td>0.017100</td>\n",
       "      <td>-0.019183</td>\n",
       "    </tr>\n",
       "    <tr>\n",
       "      <th>168</th>\n",
       "      <td>0.005716</td>\n",
       "      <td>0.000565</td>\n",
       "      <td>0.005467</td>\n",
       "      <td>0.002001</td>\n",
       "      <td>0.003834</td>\n",
       "      <td>0.092818</td>\n",
       "    </tr>\n",
       "    <tr>\n",
       "      <th>169</th>\n",
       "      <td>0.003638</td>\n",
       "      <td>0.000801</td>\n",
       "      <td>0.004437</td>\n",
       "      <td>-0.001978</td>\n",
       "      <td>0.012585</td>\n",
       "      <td>-0.001391</td>\n",
       "    </tr>\n",
       "    <tr>\n",
       "      <th>170</th>\n",
       "      <td>-0.002321</td>\n",
       "      <td>-0.000528</td>\n",
       "      <td>0.001155</td>\n",
       "      <td>-0.000484</td>\n",
       "      <td>0.007670</td>\n",
       "      <td>-0.039044</td>\n",
       "    </tr>\n",
       "    <tr>\n",
       "      <th>171</th>\n",
       "      <td>-0.001153</td>\n",
       "      <td>0.000064</td>\n",
       "      <td>0.001071</td>\n",
       "      <td>-0.000673</td>\n",
       "      <td>0.005722</td>\n",
       "      <td>-0.068149</td>\n",
       "    </tr>\n",
       "    <tr>\n",
       "      <th>172</th>\n",
       "      <td>-0.000777</td>\n",
       "      <td>-0.000007</td>\n",
       "      <td>0.000996</td>\n",
       "      <td>0.001214</td>\n",
       "      <td>-0.000935</td>\n",
       "      <td>0.068208</td>\n",
       "    </tr>\n",
       "    <tr>\n",
       "      <th>173</th>\n",
       "      <td>-0.004110</td>\n",
       "      <td>0.000024</td>\n",
       "      <td>0.001298</td>\n",
       "      <td>-0.005470</td>\n",
       "      <td>0.006816</td>\n",
       "      <td>0.056295</td>\n",
       "    </tr>\n",
       "    <tr>\n",
       "      <th>174</th>\n",
       "      <td>-0.003808</td>\n",
       "      <td>-0.000941</td>\n",
       "      <td>-0.003911</td>\n",
       "      <td>0.002295</td>\n",
       "      <td>-0.007271</td>\n",
       "      <td>0.053620</td>\n",
       "    </tr>\n",
       "    <tr>\n",
       "      <th>175</th>\n",
       "      <td>-0.000119</td>\n",
       "      <td>0.001718</td>\n",
       "      <td>0.002268</td>\n",
       "      <td>-0.001581</td>\n",
       "      <td>0.012858</td>\n",
       "      <td>-0.146225</td>\n",
       "    </tr>\n",
       "  </tbody>\n",
       "</table>\n",
       "<p>176 rows × 6 columns</p>\n",
       "</div>"
      ],
      "text/plain": [
       "            0         1         2         3         4         5\n",
       "0   -0.001663  0.002820  0.001583  0.001057  0.013478  0.010803\n",
       "1    0.010690  0.001273  0.007948 -0.001729 -0.003727 -0.043124\n",
       "2    0.011345 -0.001400  0.007057 -0.001269  0.002245 -0.030414\n",
       "3   -0.003469 -0.001206 -0.004025  0.001636 -0.004340 -0.005560\n",
       "4   -0.002279  0.003869  0.002169 -0.001004  0.005744 -0.011412\n",
       "5    0.006180 -0.002027  0.005713  0.000105  0.005902 -0.008897\n",
       "6   -0.004480  0.001865  0.015584  0.000672 -0.006904  0.010426\n",
       "7    0.002504  0.001233  0.005832  0.000509  0.007828 -0.018336\n",
       "8   -0.005720 -0.000784  0.005409 -0.002481 -0.008020 -0.069406\n",
       "9   -0.004430 -0.000032 -0.002477  0.003642 -0.020030 -0.020921\n",
       "10   0.003938  0.001506 -0.000710  0.000343  0.009481  0.013892\n",
       "11   0.003758 -0.004640 -0.006499  0.000899 -0.004341 -0.038840\n",
       "12  -0.016074  0.003646 -0.009596  0.004598 -0.022632  0.015540\n",
       "13   0.023516  0.004770 -0.012243 -0.002653  0.019666  0.108268\n",
       "14  -0.005347  0.000149  0.003589  0.000527 -0.006476 -0.071522\n",
       "15  -0.007489 -0.003268  0.000929  0.003047 -0.010614  0.053009\n",
       "16  -0.000572 -0.003172 -0.006105 -0.001739  0.018005 -0.043527\n",
       "17   0.008855  0.006862 -0.007387 -0.001116  0.020357 -0.069965\n",
       "18   0.011083 -0.005435  0.004966  0.001105 -0.004477 -0.065518\n",
       "19  -0.001024  0.001029 -0.004609  0.001842 -0.003221 -0.001205\n",
       "20   0.007626  0.004201  0.004216 -0.001403  0.019687  0.007778\n",
       "21   0.013388  0.000024  0.011602 -0.001222  0.005715 -0.073746\n",
       "22   0.001824  0.002990  0.005631  0.002165 -0.008009 -0.048029\n",
       "23  -0.010636  0.005018  0.026599 -0.000678  0.004701  0.132120\n",
       "24   0.005005  0.000521 -0.006268 -0.001862  0.011665 -0.030807\n",
       "25  -0.007245  0.000029 -0.000504  0.000595 -0.007814  0.727063\n",
       "26   0.000365  0.004173  0.014704 -0.000756  0.001049 -0.146562\n",
       "27  -0.010201  0.005994  0.004223  0.000247  0.001841  0.099296\n",
       "28  -0.001838  0.003819 -0.020035  0.004173 -0.021162  0.003592\n",
       "29  -0.002804 -0.003079 -0.021314  0.008018 -0.027261 -0.052780\n",
       "..        ...       ...       ...       ...       ...       ...\n",
       "146 -0.001637  0.000695 -0.000540 -0.000111  0.001182  0.055479\n",
       "147  0.000874 -0.001689  0.003529 -0.001316  0.003047  0.117426\n",
       "148  0.000894 -0.001056  0.003242  0.000200  0.008009  0.056532\n",
       "149  0.003951  0.001387  0.006225 -0.000759  0.006365 -0.009675\n",
       "150 -0.001197 -0.002567  0.004713 -0.001426 -0.001381  0.032639\n",
       "151  0.001992  0.001617  0.004521 -0.001081 -0.006252  0.138887\n",
       "152  0.001319 -0.001855  0.003830 -0.000625  0.009150 -0.082931\n",
       "153  0.005401 -0.001654  0.007076 -0.002641  0.004681  0.057668\n",
       "154 -0.003041  0.000014  0.002750  0.000189 -0.000342  0.041078\n",
       "155 -0.006520 -0.001268  0.004014  0.000146 -0.000977 -0.024518\n",
       "156  0.002726 -0.004100  0.002636 -0.003171 -0.001056 -0.172734\n",
       "157 -0.004365  0.005105  0.001325  0.000151  0.005289 -0.034205\n",
       "158  0.000362 -0.001368  0.003423 -0.000894  0.004635  0.075859\n",
       "159  0.001175 -0.005264 -0.002462  0.001574 -0.003696  0.070439\n",
       "160 -0.000290 -0.000225 -0.004150  0.001090 -0.000031  0.175163\n",
       "161 -0.009817  0.000753 -0.011132  0.001600 -0.003904  0.068902\n",
       "162 -0.002125  0.000867 -0.007027  0.002240 -0.012111  0.259546\n",
       "163 -0.011764  0.001613 -0.000795  0.004657 -0.021092 -0.064130\n",
       "164 -0.022843 -0.006030 -0.008301  0.003566 -0.018554 -0.592044\n",
       "165 -0.011401  0.000163  0.015737  0.005869 -0.020180 -0.171744\n",
       "166  0.004862 -0.001071  0.017576 -0.000609  0.006153  0.276566\n",
       "167  0.005895  0.000421  0.009293 -0.002094  0.017100 -0.019183\n",
       "168  0.005716  0.000565  0.005467  0.002001  0.003834  0.092818\n",
       "169  0.003638  0.000801  0.004437 -0.001978  0.012585 -0.001391\n",
       "170 -0.002321 -0.000528  0.001155 -0.000484  0.007670 -0.039044\n",
       "171 -0.001153  0.000064  0.001071 -0.000673  0.005722 -0.068149\n",
       "172 -0.000777 -0.000007  0.000996  0.001214 -0.000935  0.068208\n",
       "173 -0.004110  0.000024  0.001298 -0.005470  0.006816  0.056295\n",
       "174 -0.003808 -0.000941 -0.003911  0.002295 -0.007271  0.053620\n",
       "175 -0.000119  0.001718  0.002268 -0.001581  0.012858 -0.146225\n",
       "\n",
       "[176 rows x 6 columns]"
      ]
     },
     "execution_count": 346,
     "metadata": {},
     "output_type": "execute_result"
    }
   ],
   "source": [
    "pd.DataFrame(fit.resid)"
   ]
  },
  {
   "cell_type": "code",
   "execution_count": null,
   "metadata": {
    "collapsed": false
   },
   "outputs": [],
   "source": []
  },
  {
   "cell_type": "code",
   "execution_count": 347,
   "metadata": {
    "collapsed": false
   },
   "outputs": [],
   "source": [
    "def assemble_model(n_feat):\n",
    "    model = Sequential()\n",
    "    # Layers\n",
    "    model.add(Dense(10, input_dim=n_feat, activation='sigmoid'))\n",
    "    model.add(Dense(10, input_dim=10, activation='sigmoid'))\n",
    "    model.add(Dense(n_feat, input_dim=10))\n",
    "    # Compilation\n",
    "    model.compile(loss='mean_squared_error', optimizer='adam')\n",
    "    return(model)"
   ]
  },
  {
   "cell_type": "code",
   "execution_count": 355,
   "metadata": {
    "collapsed": true
   },
   "outputs": [],
   "source": [
    "train_x = fit.resid[:-1, :]\n",
    "train_y = fit.resid[1:, :]"
   ]
  },
  {
   "cell_type": "code",
   "execution_count": 368,
   "metadata": {
    "collapsed": true
   },
   "outputs": [],
   "source": [
    "train_x = diff_df[:-1, :]\n",
    "train_y = diff_df[1:, :]"
   ]
  },
  {
   "cell_type": "code",
   "execution_count": 369,
   "metadata": {
    "collapsed": false
   },
   "outputs": [],
   "source": [
    "nn = assemble_model(6)"
   ]
  },
  {
   "cell_type": "code",
   "execution_count": 370,
   "metadata": {
    "collapsed": false,
    "scrolled": true
   },
   "outputs": [
    {
     "name": "stdout",
     "output_type": "stream",
     "text": [
      "Epoch 1/100\n",
      "0s - loss: 0.4562\n",
      "Epoch 2/100\n",
      "0s - loss: 0.1821\n",
      "Epoch 3/100\n",
      "0s - loss: 0.0705\n",
      "Epoch 4/100\n",
      "0s - loss: 0.0257\n",
      "Epoch 5/100\n",
      "0s - loss: 0.0095\n",
      "Epoch 6/100\n",
      "0s - loss: 0.0047\n",
      "Epoch 7/100\n",
      "0s - loss: 0.0036\n",
      "Epoch 8/100\n",
      "0s - loss: 0.0033\n",
      "Epoch 9/100\n",
      "0s - loss: 0.0033\n",
      "Epoch 10/100\n",
      "0s - loss: 0.0033\n",
      "Epoch 11/100\n",
      "0s - loss: 0.0033\n",
      "Epoch 12/100\n",
      "0s - loss: 0.0033\n",
      "Epoch 13/100\n",
      "0s - loss: 0.0033\n",
      "Epoch 14/100\n",
      "0s - loss: 0.0033\n",
      "Epoch 15/100\n",
      "0s - loss: 0.0033\n",
      "Epoch 16/100\n",
      "0s - loss: 0.0033\n",
      "Epoch 17/100\n",
      "0s - loss: 0.0033\n",
      "Epoch 18/100\n",
      "0s - loss: 0.0033\n",
      "Epoch 19/100\n",
      "0s - loss: 0.0033\n",
      "Epoch 20/100\n",
      "0s - loss: 0.0033\n",
      "Epoch 21/100\n",
      "0s - loss: 0.0033\n",
      "Epoch 22/100\n",
      "0s - loss: 0.0033\n",
      "Epoch 23/100\n",
      "0s - loss: 0.0033\n",
      "Epoch 24/100\n",
      "0s - loss: 0.0033\n",
      "Epoch 25/100\n",
      "0s - loss: 0.0033\n",
      "Epoch 26/100\n",
      "0s - loss: 0.0033\n",
      "Epoch 27/100\n",
      "0s - loss: 0.0033\n",
      "Epoch 28/100\n",
      "0s - loss: 0.0033\n",
      "Epoch 29/100\n",
      "0s - loss: 0.0033\n",
      "Epoch 30/100\n",
      "0s - loss: 0.0033\n",
      "Epoch 31/100\n",
      "0s - loss: 0.0033\n",
      "Epoch 32/100\n",
      "0s - loss: 0.0034\n",
      "Epoch 33/100\n",
      "0s - loss: 0.0033\n",
      "Epoch 34/100\n",
      "0s - loss: 0.0034\n",
      "Epoch 35/100\n",
      "0s - loss: 0.0033\n",
      "Epoch 36/100\n",
      "0s - loss: 0.0033\n",
      "Epoch 37/100\n",
      "0s - loss: 0.0033\n",
      "Epoch 38/100\n",
      "0s - loss: 0.0033\n",
      "Epoch 39/100\n",
      "0s - loss: 0.0033\n",
      "Epoch 40/100\n",
      "0s - loss: 0.0033\n",
      "Epoch 41/100\n",
      "0s - loss: 0.0032\n",
      "Epoch 42/100\n",
      "0s - loss: 0.0033\n",
      "Epoch 43/100\n",
      "0s - loss: 0.0033\n",
      "Epoch 44/100\n",
      "0s - loss: 0.0032\n",
      "Epoch 45/100\n",
      "0s - loss: 0.0034\n",
      "Epoch 46/100\n",
      "0s - loss: 0.0033\n",
      "Epoch 47/100\n",
      "0s - loss: 0.0033\n",
      "Epoch 48/100\n",
      "0s - loss: 0.0033\n",
      "Epoch 49/100\n",
      "0s - loss: 0.0033\n",
      "Epoch 50/100\n",
      "0s - loss: 0.0033\n",
      "Epoch 51/100\n",
      "0s - loss: 0.0033\n",
      "Epoch 52/100\n",
      "0s - loss: 0.0033\n",
      "Epoch 53/100\n",
      "0s - loss: 0.0033\n",
      "Epoch 54/100\n",
      "0s - loss: 0.0033\n",
      "Epoch 55/100\n",
      "0s - loss: 0.0033\n",
      "Epoch 56/100\n",
      "0s - loss: 0.0033\n",
      "Epoch 57/100\n",
      "0s - loss: 0.0032\n",
      "Epoch 58/100\n",
      "0s - loss: 0.0033\n",
      "Epoch 59/100\n",
      "0s - loss: 0.0034\n",
      "Epoch 60/100\n",
      "0s - loss: 0.0033\n",
      "Epoch 61/100\n",
      "0s - loss: 0.0033\n",
      "Epoch 62/100\n",
      "0s - loss: 0.0033\n",
      "Epoch 63/100\n",
      "0s - loss: 0.0032\n",
      "Epoch 64/100\n",
      "0s - loss: 0.0032\n",
      "Epoch 65/100\n",
      "0s - loss: 0.0033\n",
      "Epoch 66/100\n",
      "0s - loss: 0.0033\n",
      "Epoch 67/100\n",
      "0s - loss: 0.0033\n",
      "Epoch 68/100\n",
      "0s - loss: 0.0033\n",
      "Epoch 69/100\n",
      "0s - loss: 0.0033\n",
      "Epoch 70/100\n",
      "0s - loss: 0.0033\n",
      "Epoch 71/100\n",
      "0s - loss: 0.0033\n",
      "Epoch 72/100\n",
      "0s - loss: 0.0032\n",
      "Epoch 73/100\n",
      "0s - loss: 0.0032\n",
      "Epoch 74/100\n",
      "0s - loss: 0.0033\n",
      "Epoch 75/100\n",
      "0s - loss: 0.0033\n",
      "Epoch 76/100\n",
      "0s - loss: 0.0032\n",
      "Epoch 77/100\n",
      "0s - loss: 0.0033\n",
      "Epoch 78/100\n",
      "0s - loss: 0.0032\n",
      "Epoch 79/100\n",
      "0s - loss: 0.0033\n",
      "Epoch 80/100\n",
      "0s - loss: 0.0033\n",
      "Epoch 81/100\n",
      "0s - loss: 0.0033\n",
      "Epoch 82/100\n",
      "0s - loss: 0.0034\n",
      "Epoch 83/100\n",
      "0s - loss: 0.0033\n",
      "Epoch 84/100\n",
      "0s - loss: 0.0032\n",
      "Epoch 85/100\n",
      "0s - loss: 0.0032\n",
      "Epoch 86/100\n",
      "0s - loss: 0.0032\n",
      "Epoch 87/100\n",
      "0s - loss: 0.0032\n",
      "Epoch 88/100\n",
      "0s - loss: 0.0033\n",
      "Epoch 89/100\n",
      "0s - loss: 0.0032\n",
      "Epoch 90/100\n",
      "0s - loss: 0.0032\n",
      "Epoch 91/100\n",
      "0s - loss: 0.0032\n",
      "Epoch 92/100\n",
      "0s - loss: 0.0034\n",
      "Epoch 93/100\n",
      "0s - loss: 0.0033\n",
      "Epoch 94/100\n",
      "0s - loss: 0.0032\n",
      "Epoch 95/100\n",
      "0s - loss: 0.0032\n",
      "Epoch 96/100\n",
      "0s - loss: 0.0032\n",
      "Epoch 97/100\n",
      "0s - loss: 0.0034\n",
      "Epoch 98/100\n",
      "0s - loss: 0.0033\n",
      "Epoch 99/100\n",
      "0s - loss: 0.0032\n",
      "Epoch 100/100\n",
      "0s - loss: 0.0032\n"
     ]
    },
    {
     "data": {
      "text/plain": [
       "<keras.callbacks.History at 0x7f6497f08cf8>"
      ]
     },
     "execution_count": 370,
     "metadata": {},
     "output_type": "execute_result"
    }
   ],
   "source": [
    "nn.fit(train_x, \n",
    "       train_y, \n",
    "       nb_epoch=100, \n",
    "       verbose=2,\n",
    "       batch_size=1)"
   ]
  },
  {
   "cell_type": "code",
   "execution_count": 371,
   "metadata": {
    "collapsed": false
   },
   "outputs": [
    {
     "data": {
      "text/plain": [
       "array([[ 0.0077628 ,  0.00949033, -0.0023022 ,  0.00543232, -0.00106695,\n",
       "         0.00483311]], dtype=float32)"
      ]
     },
     "execution_count": 371,
     "metadata": {},
     "output_type": "execute_result"
    }
   ],
   "source": [
    "nn.predict(fit.resid[-1:, :])"
   ]
  },
  {
   "cell_type": "code",
   "execution_count": null,
   "metadata": {
    "collapsed": false
   },
   "outputs": [],
   "source": [
    "def nn_predict_var(nn_model, data, lags_to_predict):\n",
    "    \n",
    "    \n",
    "    lags = len(last_obs.columns)\n",
    "    predicted_obs = np.array(last_obs)[0].tolist() # list\n",
    "    obs = np.array([predicted_obs]) # np.array\n",
    "    for i in range(lags_to_predict):\n",
    "        predicted_obs.append(nn_model.predict(obs)[0][0])\n",
    "        obs = np.array([predicted_obs[-lags:]]) # np.array\n",
    "    return(predicted_obs[lags:])"
   ]
  },
  {
   "cell_type": "code",
   "execution_count": null,
   "metadata": {
    "collapsed": false
   },
   "outputs": [],
   "source": []
  },
  {
   "cell_type": "code",
   "execution_count": null,
   "metadata": {
    "collapsed": false
   },
   "outputs": [],
   "source": []
  },
  {
   "cell_type": "code",
   "execution_count": null,
   "metadata": {
    "collapsed": true
   },
   "outputs": [],
   "source": []
  },
  {
   "cell_type": "code",
   "execution_count": null,
   "metadata": {
    "collapsed": true
   },
   "outputs": [],
   "source": []
  },
  {
   "cell_type": "code",
   "execution_count": null,
   "metadata": {
    "collapsed": true
   },
   "outputs": [],
   "source": []
  },
  {
   "cell_type": "code",
   "execution_count": null,
   "metadata": {
    "collapsed": true
   },
   "outputs": [],
   "source": []
  },
  {
   "cell_type": "code",
   "execution_count": null,
   "metadata": {
    "collapsed": true
   },
   "outputs": [],
   "source": []
  },
  {
   "cell_type": "code",
   "execution_count": null,
   "metadata": {
    "collapsed": true
   },
   "outputs": [],
   "source": []
  },
  {
   "cell_type": "code",
   "execution_count": null,
   "metadata": {
    "collapsed": true
   },
   "outputs": [],
   "source": []
  },
  {
   "cell_type": "code",
   "execution_count": null,
   "metadata": {
    "collapsed": true
   },
   "outputs": [],
   "source": []
  },
  {
   "cell_type": "code",
   "execution_count": null,
   "metadata": {
    "collapsed": true
   },
   "outputs": [],
   "source": []
  },
  {
   "cell_type": "code",
   "execution_count": null,
   "metadata": {
    "collapsed": true
   },
   "outputs": [],
   "source": []
  },
  {
   "cell_type": "code",
   "execution_count": null,
   "metadata": {
    "collapsed": true
   },
   "outputs": [],
   "source": []
  },
  {
   "cell_type": "code",
   "execution_count": null,
   "metadata": {
    "collapsed": true
   },
   "outputs": [],
   "source": []
  },
  {
   "cell_type": "code",
   "execution_count": null,
   "metadata": {
    "collapsed": true
   },
   "outputs": [],
   "source": []
  },
  {
   "cell_type": "code",
   "execution_count": null,
   "metadata": {
    "collapsed": true
   },
   "outputs": [],
   "source": []
  },
  {
   "cell_type": "code",
   "execution_count": 4,
   "metadata": {
    "collapsed": false
   },
   "outputs": [],
   "source": [
    "df = pd.read_excel('Irek_Board_diversity.xlsx', sheetname='for Andrey')"
   ]
  },
  {
   "cell_type": "code",
   "execution_count": 5,
   "metadata": {
    "collapsed": false,
    "scrolled": true
   },
   "outputs": [],
   "source": [
    "df = df.iloc[:, :24].copy()\n",
    "df = df.iloc[:2049, :].copy()"
   ]
  },
  {
   "cell_type": "code",
   "execution_count": 6,
   "metadata": {
    "collapsed": false,
    "scrolled": true
   },
   "outputs": [],
   "source": [
    "for i in range(1,23):\n",
    "    df['key' + str(i)] = [np.nan]*len(df)"
   ]
  },
  {
   "cell_type": "code",
   "execution_count": 7,
   "metadata": {
    "collapsed": false,
    "scrolled": true
   },
   "outputs": [],
   "source": [
    "for i in range(1,23):\n",
    "    df['degree' + str(i)] = [np.nan]*len(df)"
   ]
  },
  {
   "cell_type": "code",
   "execution_count": 8,
   "metadata": {
    "collapsed": false,
    "scrolled": true
   },
   "outputs": [
    {
     "name": "stdout",
     "output_type": "stream",
     "text": [
      "\"BoardMember1\",\"key1\",\"degree1\",\"BoardMember2\",\"key2\",\"degree2\",\"BoardMember3\",\"key3\",\"degree3\",\"BoardMember4\",\"key4\",\"degree4\",\"BoardMember5\",\"key5\",\"degree5\",\"BoardMember6\",\"key6\",\"degree6\",\"BoardMember7\",\"key7\",\"degree7\",\"BoardMember8\",\"key8\",\"degree8\",\"BoardMember9\",\"key9\",\"degree9\",\"BoardMember10\",\"key10\",\"degree10\",\"BoardMember11\",\"key11\",\"degree11\",\"BoardMember12\",\"key12\",\"degree12\",\"BoardMember13\",\"key13\",\"degree13\",\"BoardMember14\",\"key14\",\"degree14\",\"BoardMember15\",\"key15\",\"degree15\",\"BoardMember16\",\"key16\",\"degree16\",\"BoardMember17\",\"key17\",\"degree17\",\"BoardMember18\",\"key18\",\"degree18\",\"BoardMember19\",\"key19\",\"degree19\",\"BoardMember20\",\"key20\",\"degree20\",\"BoardMember21\",\"key21\",\"degree21\",\"BoardMember22\",\"key22\",\"degree22\","
     ]
    }
   ],
   "source": [
    "for i in range(1,23):\n",
    "    print('\"BoardMember'+str(i)+'\"', end=',')\n",
    "    print('\"key'+str(i)+'\"', end=',')\n",
    "    print('\"degree'+str(i)+'\"', end=',')"
   ]
  },
  {
   "cell_type": "code",
   "execution_count": 9,
   "metadata": {
    "collapsed": false,
    "scrolled": true
   },
   "outputs": [],
   "source": [
    "df = df[[\"company\", \"ticker\", \"BoardMember1\",\"key1\",\"degree1\",\"BoardMember2\",\"key2\",\"degree2\",\"BoardMember3\",\n",
    "         \"key3\",\"degree3\",\"BoardMember4\",\"key4\",\"degree4\",\"BoardMember5\",\"key5\",\"degree5\",\"BoardMember6\",\"key6\",\n",
    "         \"degree6\",\"BoardMember7\",\"key7\",\"degree7\",\"BoardMember8\",\"key8\",\"degree8\",\"BoardMember9\",\"key9\",\n",
    "         \"degree9\",\"BoardMember10\",\"key10\",\"degree10\",\"BoardMember11\",\"key11\",\"degree11\",\"BoardMember12\",\"key12\",\n",
    "         \"degree12\",\"BoardMember13\",\"key13\",\"degree13\",\"BoardMember14\",\"key14\",\"degree14\",\"BoardMember15\",\"key15\",\n",
    "         \"degree15\",\"BoardMember16\",\"key16\",\"degree16\",\"BoardMember17\",\"key17\",\"degree17\",\"BoardMember18\",\"key18\",\n",
    "         \"degree18\",\"BoardMember19\",\"key19\",\"degree19\",\"BoardMember20\",\"key20\",\"degree20\",\"BoardMember21\",\"key21\",\n",
    "         \"degree21\",\"BoardMember22\",\"key22\",\"degree22\"]].copy()"
   ]
  },
  {
   "cell_type": "code",
   "execution_count": 12,
   "metadata": {
    "collapsed": true
   },
   "outputs": [],
   "source": [
    "bachelor = ['BA', 'bachelor', 'undergraduate', 'Bsc', 'B.Sc', 'B.S.', 'B.s', \n",
    "            'A.B.', 'BS', 'AB', 'Bachelor', 'Undergraduate', 'B.A']\n",
    "master_art = ['MA', 'M.A.', 'Master of arts']\n",
    "master_science = ['MS', 'M.S.', 'Msc', 'M.Sc', 'M.Sc.', 'Master of science']\n",
    "master = ['master', 'Master']\n",
    "mba = ['MBA', 'M.B.A.', \"master's in business administration\", \n",
    "       'master of business administration', 'master in business administration']\n",
    "phd = ['PHD', 'Ph.d.', 'Doctor', 'M.D.', 'Ph.D', 'phd', 'Ph. D', 'doctor']\n",
    "\n",
    "full = bachelor + master_art + master_science + mba + phd + master"
   ]
  },
  {
   "cell_type": "code",
   "execution_count": 13,
   "metadata": {
    "collapsed": false
   },
   "outputs": [],
   "source": [
    "for j in range(len(df)):\n",
    "    for i in range(1,23):\n",
    "        if pd.isnull(df.loc[j, 'BoardMember'+str(i)]):\n",
    "            pass\n",
    "        else:\n",
    "            str_word = ''\n",
    "            for word in full:\n",
    "                if word in df.loc[j, 'BoardMember' + str(i)]:\n",
    "                    str_word = str_word + ' ' + word\n",
    "                    #print(str_word, i,j)\n",
    "            df.loc[j, 'key' + str(i)] = str_word"
   ]
  },
  {
   "cell_type": "code",
   "execution_count": 14,
   "metadata": {
    "collapsed": false,
    "scrolled": true
   },
   "outputs": [],
   "source": [
    "for j in range(len(df)):\n",
    "    for i in range(1,23):\n",
    "        if pd.isnull(df.loc[j, 'key'+str(i)]):\n",
    "            pass\n",
    "        else:\n",
    "            str_word = ''\n",
    "            for word in bachelor:\n",
    "                if word in df.loc[j, 'key' + str(i)]:\n",
    "                    str_word = str_word + ' ' + 'bachelor'\n",
    "                    break\n",
    "            for word in master_art:\n",
    "                if word in df.loc[j, 'key' + str(i)]:\n",
    "                    str_word = str_word + ' ' + 'master_art'\n",
    "                    break\n",
    "            for word in master_science:\n",
    "                if word in df.loc[j, 'key' + str(i)]:\n",
    "                    str_word = str_word + ' ' + 'master_science'\n",
    "                    break\n",
    "            for word in mba:\n",
    "                if word in df.loc[j, 'key' + str(i)]:\n",
    "                    str_word = str_word + ' ' + 'mba'\n",
    "                    break\n",
    "            for word in phd:\n",
    "                if word in df.loc[j, 'key' + str(i)]:\n",
    "                    str_word = str_word + ' ' + 'phd'\n",
    "                    break\n",
    "            for word in master:\n",
    "                if word in df.loc[j, 'key' + str(i)]:\n",
    "                    str_word = str_word + ' ' + 'master'\n",
    "                    break\n",
    "            df.loc[j, 'degree' + str(i)] = str_word"
   ]
  },
  {
   "cell_type": "code",
   "execution_count": 15,
   "metadata": {
    "collapsed": false,
    "scrolled": true
   },
   "outputs": [],
   "source": [
    "df.to_csv('Irek.csv')"
   ]
  },
  {
   "cell_type": "code",
   "execution_count": null,
   "metadata": {
    "collapsed": true
   },
   "outputs": [],
   "source": []
  },
  {
   "cell_type": "code",
   "execution_count": null,
   "metadata": {
    "collapsed": true
   },
   "outputs": [],
   "source": []
  },
  {
   "cell_type": "code",
   "execution_count": null,
   "metadata": {
    "collapsed": true
   },
   "outputs": [],
   "source": []
  },
  {
   "cell_type": "code",
   "execution_count": null,
   "metadata": {
    "collapsed": true
   },
   "outputs": [],
   "source": []
  },
  {
   "cell_type": "code",
   "execution_count": null,
   "metadata": {
    "collapsed": false
   },
   "outputs": [],
   "source": []
  },
  {
   "cell_type": "code",
   "execution_count": null,
   "metadata": {
    "collapsed": true
   },
   "outputs": [],
   "source": []
  },
  {
   "cell_type": "code",
   "execution_count": null,
   "metadata": {
    "collapsed": true
   },
   "outputs": [],
   "source": []
  },
  {
   "cell_type": "code",
   "execution_count": null,
   "metadata": {
    "collapsed": true
   },
   "outputs": [],
   "source": []
  },
  {
   "cell_type": "code",
   "execution_count": null,
   "metadata": {
    "collapsed": true
   },
   "outputs": [],
   "source": []
  },
  {
   "cell_type": "code",
   "execution_count": null,
   "metadata": {
    "collapsed": true
   },
   "outputs": [],
   "source": []
  },
  {
   "cell_type": "code",
   "execution_count": null,
   "metadata": {
    "collapsed": true
   },
   "outputs": [],
   "source": []
  }
 ],
 "metadata": {
  "anaconda-cloud": {},
  "kernelspec": {
   "display_name": "Python [conda env:neural_net]",
   "language": "python",
   "name": "conda-env-neural_net-py"
  },
  "language_info": {
   "codemirror_mode": {
    "name": "ipython",
    "version": 3
   },
   "file_extension": ".py",
   "mimetype": "text/x-python",
   "name": "python",
   "nbconvert_exporter": "python",
   "pygments_lexer": "ipython3",
   "version": "3.5.2"
  }
 },
 "nbformat": 4,
 "nbformat_minor": 1
}
